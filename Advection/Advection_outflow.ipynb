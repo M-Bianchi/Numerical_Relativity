{
 "cells": [
  {
   "cell_type": "markdown",
   "metadata": {},
   "source": [
    "# Advection Equation\n",
    "\n",
    "Here we solve the advection equation $u_t + a u_x=0$ using as an initial condition a gaussian profile $u(x,t=0)=\\exp{[-(x-x_0)^2]}$ with $x_0=5$.\n",
    "\n",
    "We use a domain $x\\in [0,10]$ with outflow boundary conditions."
   ]
  },
  {
   "cell_type": "code",
   "execution_count": 9,
   "metadata": {},
   "outputs": [
    {
     "name": "stdout",
     "output_type": "stream",
     "text": [
      "nx= 1001\n",
      "dx= 0.01\n",
      "dt= 0.005\n",
      "Number of iterations= 4000.0\n"
     ]
    }
   ],
   "source": [
    "import numpy as np\n",
    "import matplotlib.pyplot as plt\n",
    "import math\n",
    "import os\n",
    "\n",
    "# Define the speed a\n",
    "a = 1.0\n",
    "\n",
    "# Define the domain\n",
    "L = 10.0        # Domain length\n",
    "nx = 1001       # Number of grid points\n",
    "dx = L/(nx-1)   # Grid spacing\n",
    "x = np.linspace(0, L, nx)\n",
    "\n",
    "# Define the time step and the final time\n",
    "cf = 0.5\n",
    "dt = cf*dx/a    # Time step\n",
    "t_final = 20.0\n",
    "\n",
    "print('nx=', nx)\n",
    "print('dx=', dx)\n",
    "print('dt=', dt)\n",
    "print('Number of iterations=', t_final/dt)\n",
    "\n",
    "\n",
    "# Define the initial condition\n",
    "x0 = 5\n",
    "u_initial = np.exp(-(x-x0)**2)\n",
    "\n",
    "# Initialize the solution array\n",
    "u_current = u_initial.copy()\n",
    "u_previous = u_initial.copy()\n",
    "\n",
    "# We create arrays where we will store the time and the l2norm\n",
    "l2norm = []\n",
    "l2norm.append(np.sqrt(np.sum(u_current**2)/len(u_current)))\n",
    "\n",
    "time = []\n",
    "time.append(0.0)"
   ]
  },
  {
   "cell_type": "markdown",
   "metadata": {},
   "source": [
    "## The outflow boundary condition"
   ]
  },
  {
   "cell_type": "markdown",
   "metadata": {},
   "source": [
    "### $u^n_{j-1}$"
   ]
  },
  {
   "cell_type": "code",
   "execution_count": 10,
   "metadata": {},
   "outputs": [
    {
     "data": {
      "text/plain": [
       "array(['u1', 'u2', 'u3', 'u4', 'u5', 'u6', 'u7', 'u8', 'u9'], dtype='<U2')"
      ]
     },
     "execution_count": 10,
     "metadata": {},
     "output_type": "execute_result"
    }
   ],
   "source": [
    "array = np.array(['u1', 'u2', 'u3', 'u4', 'u5', 'u6', 'u7', 'u8', 'u9'])\n",
    "array"
   ]
  },
  {
   "cell_type": "markdown",
   "metadata": {},
   "source": [
    "Periodic boundary condition"
   ]
  },
  {
   "cell_type": "code",
   "execution_count": 11,
   "metadata": {},
   "outputs": [
    {
     "data": {
      "text/plain": [
       "array(['u9', 'u1', 'u2', 'u3', 'u4', 'u5', 'u6', 'u7', 'u8'], dtype='<U2')"
      ]
     },
     "execution_count": 11,
     "metadata": {},
     "output_type": "execute_result"
    }
   ],
   "source": [
    "array_minus_one = np.roll(array, 1)\n",
    "array_minus_one "
   ]
  },
  {
   "cell_type": "markdown",
   "metadata": {},
   "source": [
    "Outflow boundary condition"
   ]
  },
  {
   "cell_type": "code",
   "execution_count": 12,
   "metadata": {},
   "outputs": [
    {
     "data": {
      "text/plain": [
       "array(['u1', 'u1', 'u2', 'u3', 'u4', 'u5', 'u6', 'u7', 'u8'], dtype='<U2')"
      ]
     },
     "execution_count": 12,
     "metadata": {},
     "output_type": "execute_result"
    }
   ],
   "source": [
    "array_minus_one[0] = array[0]\n",
    "array_minus_one"
   ]
  },
  {
   "cell_type": "markdown",
   "metadata": {},
   "source": [
    "### $u^n_{j+1}$"
   ]
  },
  {
   "cell_type": "markdown",
   "metadata": {},
   "source": [
    "Periodic boundary condition"
   ]
  },
  {
   "cell_type": "code",
   "execution_count": 13,
   "metadata": {},
   "outputs": [
    {
     "data": {
      "text/plain": [
       "array(['u2', 'u3', 'u4', 'u5', 'u6', 'u7', 'u8', 'u9', 'u1'], dtype='<U2')"
      ]
     },
     "execution_count": 13,
     "metadata": {},
     "output_type": "execute_result"
    }
   ],
   "source": [
    "array_minus_one = np.roll(array, -1)\n",
    "array_minus_one "
   ]
  },
  {
   "cell_type": "markdown",
   "metadata": {},
   "source": [
    "Outflow boundary condition"
   ]
  },
  {
   "cell_type": "code",
   "execution_count": 14,
   "metadata": {},
   "outputs": [
    {
     "data": {
      "text/plain": [
       "array(['u2', 'u3', 'u4', 'u5', 'u6', 'u7', 'u8', 'u9', 'u9'], dtype='<U2')"
      ]
     },
     "execution_count": 14,
     "metadata": {},
     "output_type": "execute_result"
    }
   ],
   "source": [
    "array_minus_one[-1] = array[-1]\n",
    "array_minus_one"
   ]
  },
  {
   "cell_type": "code",
   "execution_count": 15,
   "metadata": {},
   "outputs": [
    {
     "data": {
      "text/plain": [
       "array([1.53470169e-11, 1.69559892e-11, 1.87298988e-11, ...,\n",
       "       1.53470169e-11, 1.38879439e-11, 1.38879439e-11])"
      ]
     },
     "execution_count": 15,
     "metadata": {},
     "output_type": "execute_result"
    }
   ],
   "source": [
    "u_current_plus_one = np.roll(u_current, -1)\n",
    "u_current_plus_one[-1] = u_current[-1]\n",
    "u_current_plus_one"
   ]
  },
  {
   "cell_type": "code",
   "execution_count": 16,
   "metadata": {},
   "outputs": [
    {
     "name": "stdout",
     "output_type": "stream",
     "text": [
      "1.3887943864964021e-11\n",
      "1.3887943864964021e-11\n"
     ]
    }
   ],
   "source": [
    "print(u_current_plus_one[-1])\n",
    "u_current[-1] = 0.\n",
    "print(u_current_plus_one[-1])"
   ]
  },
  {
   "cell_type": "markdown",
   "metadata": {},
   "source": [
    "## Implementation"
   ]
  },
  {
   "cell_type": "code",
   "execution_count": 17,
   "metadata": {},
   "outputs": [
    {
     "name": "stdout",
     "output_type": "stream",
     "text": [
      "First step with Lax-Friedrichs\n",
      "100 %\r"
     ]
    }
   ],
   "source": [
    "# Initilize time and iteration counter\n",
    "t = 0.0\n",
    "i = 0\n",
    "\n",
    "# Save the initial conditions\n",
    "plt.plot(x, u_current)\n",
    "plt.title(f'Time={round(t,2):.2f}')\n",
    "plt.ylim(0, 1.1)\n",
    "plt.savefig('./images/fig_'+str(i).zfill(5)+'.png', dpi=200)\n",
    "plt.close()\n",
    "\n",
    "#solve the advection equation\n",
    "while t < t_final:\n",
    "    print(math.ceil(100*t/t_final), \"%\", end='\\r')\n",
    "    \n",
    "    # Compute the new solution using various methods\n",
    "    # Note: np.roll(u_current, -1) is equivalent to u(j+1) and np.roll(u_current,  1) is equivalent to u(j-1)\n",
    "    # Using np.roll is equivalent to use periodic boundary conditions\n",
    "\n",
    "    # Outflow boundary condition:\n",
    "    u_current_minus_one = np.roll(u_current, 1)\n",
    "    u_current_minus_one[0] = u_current[0]\n",
    "    u_current_plus_one = np.roll(u_current, -1)\n",
    "    u_current_plus_one[-1] = u_current[-1]\n",
    "    \n",
    "    # 1) Lax-Friedrichs\n",
    "    #u_next = 0.5*(u_current_plus_one + u_current_minus_one) - a*dt/(2*dx)*(u_current_plus_one - u_current_minus_one)\n",
    "    \n",
    "    # 2) Leapfrog (first step with Lax-Friedrichs)\n",
    "    if t==0: \n",
    "        u_next = 0.5*(u_current_plus_one + u_current_minus_one) - a*dt/(2*dx)*(u_current_plus_one - u_current_minus_one)\n",
    "        u_previous = u_current.copy() \n",
    "        print('First step with Lax-Friedrichs')\n",
    "    else :\n",
    "        u_next = u_previous - (a*dt/dx)*(u_current_plus_one - u_current_minus_one)\n",
    "        u_previous = u_current.copy() \n",
    "    \n",
    "    # 3) Lax-Wendroff\n",
    "    #u_next = u_current - a*dt/(2*dx)*(u_current_plus_one - u_current_minus_one) + (a**2)*(dt**2)/(2*dx**2)*(u_current_minus_one - 2*u_current + u_current_plus_one)\n",
    "    \n",
    "    # Update the solution\n",
    "    u_current = u_next.copy()\n",
    "    \n",
    "    # Advance the time \n",
    "    t += dt\n",
    "    i += 1\n",
    "    \n",
    "    # Compute the l2 norm and add the time to the time vector\n",
    "    l2norm.append(np.sqrt(np.sum(u_current**2)/len(u_current)))\n",
    "    time.append(t)\n",
    "    \n",
    "    # Plot the current result and save in an image every t_final/dt/100 iterations\n",
    "    if (i%(t_final/dt/100)==0):\n",
    "        plt.plot(x, u_current)\n",
    "        plt.title(f'Time={round(t,2):.2f}')\n",
    "        plt.ylim(-1.1, 1.1)\n",
    "        plt.savefig('./images/fig_'+str(i).zfill(6)+'.png', dpi=200)\n",
    "        plt.close()"
   ]
  },
  {
   "cell_type": "code",
   "execution_count": 18,
   "metadata": {},
   "outputs": [],
   "source": [
    "#np.save('./results/Outflow_LaxFriedrichs_u'+str(nx-1)+'.npy', u_current)\n",
    "#np.save('./results/Outflow_LaxFriedrichs_l2norm'+str(nx-1)+'.npy', l2norm)\n",
    "#np.save('./results/Outflow_Leapfrog_u'+str(nx-1)+'.npy', u_current)\n",
    "#np.save('./results/Outflow_Leapfrog_l2norm'+str(nx-1)+'.npy', l2norm)\n",
    "#np.save('./results/Outflow_LaxWendroff_u'+str(nx-1)+'.npy', u_current)\n",
    "#np.save('./results/Outflow_LaxWendroff_l2norm'+str(nx-1)+'.npy', l2norm)"
   ]
  },
  {
   "cell_type": "code",
   "execution_count": 19,
   "metadata": {},
   "outputs": [
    {
     "data": {
      "image/png": "[encoded data removed]",
      "text/plain": [
       "<Figure size 640x480 with 1 Axes>"
      ]
     },
     "metadata": {},
     "output_type": "display_data"
    }
   ],
   "source": [
    "# Plot the final solution\n",
    "plt.plot(x, u_initial, label='Initial')\n",
    "plt.plot(x, u_current, label='Final')\n",
    "plt.title(f'Time={round(t,2):.2f}')\n",
    "plt.ylim(-1.1, 1.1)\n",
    "plt.legend()\n",
    "plt.show()"
   ]
  },
  {
   "cell_type": "code",
   "execution_count": 20,
   "metadata": {},
   "outputs": [
    {
     "name": "stdout",
     "output_type": "stream",
     "text": [
      "['fig_00000.png', 'fig_000040.png', 'fig_000080.png', 'fig_000120.png', 'fig_000160.png', 'fig_000200.png', 'fig_000240.png', 'fig_000280.png', 'fig_000320.png', 'fig_000360.png', 'fig_000400.png', 'fig_000440.png', 'fig_000480.png', 'fig_000520.png', 'fig_000560.png', 'fig_000600.png', 'fig_000640.png', 'fig_000680.png', 'fig_000720.png', 'fig_000760.png', 'fig_000800.png', 'fig_000840.png', 'fig_000880.png', 'fig_000920.png', 'fig_000960.png', 'fig_001000.png', 'fig_001040.png', 'fig_001080.png', 'fig_001120.png', 'fig_001160.png', 'fig_001200.png', 'fig_001240.png', 'fig_001280.png', 'fig_001320.png', 'fig_001360.png', 'fig_001400.png', 'fig_001440.png', 'fig_001480.png', 'fig_001520.png', 'fig_001560.png', 'fig_001600.png', 'fig_001640.png', 'fig_001680.png', 'fig_001720.png', 'fig_001760.png', 'fig_001800.png', 'fig_001840.png', 'fig_001880.png', 'fig_001920.png', 'fig_001960.png', 'fig_002000.png', 'fig_002040.png', 'fig_002080.png', 'fig_002120.png', 'fig_002160.png', 'fig_002200.png', 'fig_002240.png', 'fig_002280.png', 'fig_002320.png', 'fig_002360.png', 'fig_002400.png', 'fig_002440.png', 'fig_002480.png', 'fig_002520.png', 'fig_002560.png', 'fig_002600.png', 'fig_002640.png', 'fig_002680.png', 'fig_002720.png', 'fig_002760.png', 'fig_002800.png', 'fig_002840.png', 'fig_002880.png', 'fig_002920.png', 'fig_002960.png', 'fig_003000.png', 'fig_003040.png', 'fig_003080.png', 'fig_003120.png', 'fig_003160.png', 'fig_003200.png', 'fig_003240.png', 'fig_003280.png', 'fig_003320.png', 'fig_003360.png', 'fig_003400.png', 'fig_003440.png', 'fig_003480.png', 'fig_003520.png', 'fig_003560.png', 'fig_003600.png', 'fig_003640.png', 'fig_003680.png', 'fig_003720.png', 'fig_003760.png', 'fig_003800.png', 'fig_003840.png', 'fig_003880.png', 'fig_003920.png', 'fig_003960.png', 'fig_004000.png']\n"
     ]
    },
    {
     "name": "stderr",
     "output_type": "stream",
     "text": [
      "C:\\Users\\marco\\AppData\\Local\\Temp\\ipykernel_9720\\1298765993.py:15: DeprecationWarning: Starting with ImageIO v3 the behavior of this function will switch to that of iio.v3.imread. To keep the current behavior (and make this warning disappear) use `import imageio.v2 as imageio` or call `imageio.v2.imread` directly.\n",
      "  image = imageio.imread('./images/'+file)\n"
     ]
    }
   ],
   "source": [
    "# Set the directory where your images are stored\n",
    "directory = \"./images/\"\n",
    "\n",
    "# Get the list of image files in the directory\n",
    "files = os.listdir(directory)\n",
    "\n",
    "# Sort the files in alphanumeric order\n",
    "files = sorted(files)\n",
    "\n",
    "print(files)\n",
    "\n",
    "import imageio\n",
    "with imageio.get_writer('./images/movie.mp4', mode='I', quality=10) as writer:\n",
    "    for file in files:\n",
    "        image = imageio.imread('./images/'+file)\n",
    "        writer.append_data(image)"
   ]
  },
  {
   "cell_type": "code",
   "execution_count": 21,
   "metadata": {},
   "outputs": [],
   "source": [
    "# Don't worry about the code in this cell, it is just to let you display the movies you generated above in Jupyter notebook\n",
    "#from IPython.display import HTML\n",
    "#\n",
    "#HTML(\"\"\"\n",
    "#<div align=\"middle\">\n",
    "#<video width=\"80%\" controls>\n",
    "#      <source src=\"./images/movie.mp4\" type=\"video/mp4\">\n",
    "#</video></div>\"\"\")"
   ]
  },
  {
   "cell_type": "code",
   "execution_count": 22,
   "metadata": {},
   "outputs": [
    {
     "data": {
      "image/png": "[encoded data removed]",
      "text/plain": [
       "<Figure size 640x480 with 1 Axes>"
      ]
     },
     "metadata": {},
     "output_type": "display_data"
    }
   ],
   "source": [
    "# Compare with data stored\n",
    "#l2_saved=np.genfromtxt('./l2norm_FTCS.dat', comments='#')\n",
    "#l2_saved=np.genfromtxt('./l2norm_LAX.dat', comments='#')\n",
    "#l2_saved=np.genfromtxt('./l2norm_LEAPFROG.dat', comments='#')\n",
    "#l2_saved=np.genfromtxt('./l2norm_LAXWENDROFF.dat', comments='#')\n",
    "plt.plot(time, l2norm)\n",
    "plt.axhline(l2norm[0], ls='--', color='red', zorder=0)\n",
    "#plt.plot(l2_saved[:,0], l2_saved[:,1], '+')\n",
    "#plt.savefig('./images/l2norm.png', dpi=200)\n",
    "plt.show()"
   ]
  }
 ],
 "metadata": {
  "kernelspec": {
   "display_name": "Python 3",
   "language": "python",
   "name": "python3"
  },
  "language_info": {
   "codemirror_mode": {
    "name": "ipython",
    "version": 3
   },
   "file_extension": ".py",
   "mimetype": "text/x-python",
   "name": "python",
   "nbconvert_exporter": "python",
   "pygments_lexer": "ipython3",
   "version": "3.8.18"
  }
 },
 "nbformat": 4,
 "nbformat_minor": 4
}

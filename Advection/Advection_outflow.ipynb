{
 "cells": [
  {
   "cell_type": "markdown",
   "metadata": {},
   "source": [
    "# Advection Equation\n",
    "\n",
    "Here we solve the advection equation $u_t + a u_x=0$ using as an initial condition a gaussian profile $u(x,t=0)=\\exp{[-(x-x_0)^2]}$ with $x_0=5$.\n",
    "\n",
    "We use a domain $x\\in [0,10]$ with outflow boundary conditions."
   ]
  },
  {
   "cell_type": "code",
   "execution_count": 25,
   "metadata": {},
   "outputs": [
    {
     "name": "stdout",
     "output_type": "stream",
     "text": [
      "nx= 10001\n",
      "dx= 0.001\n",
      "dt= 0.0005\n",
      "Number of iterations= 40000.0\n"
     ]
    }
   ],
   "source": [
    "import numpy as np\n",
    "import matplotlib.pyplot as plt\n",
    "import math\n",
    "import os\n",
    "\n",
    "# Define the speed a\n",
    "a = 1.0\n",
    "\n",
    "# Define the domain\n",
    "L = 10.0        # Domain length\n",
    "nx = 10001       # Number of grid points\n",
    "dx = L/(nx-1)   # Grid spacing\n",
    "x = np.linspace(0, L, nx)\n",
    "\n",
    "# Define the time step and the final time\n",
    "cf = 0.5\n",
    "dt = cf*dx/a    # Time step\n",
    "t_final = 20.0\n",
    "\n",
    "print('nx=', nx)\n",
    "print('dx=', dx)\n",
    "print('dt=', dt)\n",
    "print('Number of iterations=', t_final/dt)\n",
    "\n",
    "\n",
    "# Define the initial condition\n",
    "x0 = 5\n",
    "u_initial = np.exp(-(x-x0)**2)\n",
    "\n",
    "# Initialize the solution array\n",
    "u_current = u_initial.copy()\n",
    "u_previous = u_initial.copy()\n",
    "\n",
    "# We create arrays where we will store the time and the l2norm\n",
    "l2norm = []\n",
    "l2norm.append(np.sqrt(np.sum(u_current**2)/len(u_current)))\n",
    "\n",
    "time = []\n",
    "time.append(0.0)"
   ]
  },
  {
   "cell_type": "markdown",
   "metadata": {},
   "source": [
    "## The outflow boundary condition"
   ]
  },
  {
   "cell_type": "markdown",
   "metadata": {},
   "source": [
    "### $u^n_{j-1}$"
   ]
  },
  {
   "cell_type": "code",
   "execution_count": 26,
   "metadata": {},
   "outputs": [
    {
     "data": {
      "text/plain": [
       "array(['u1', 'u2', 'u3', 'u4', 'u5', 'u6', 'u7', 'u8', 'u9'], dtype='<U2')"
      ]
     },
     "execution_count": 26,
     "metadata": {},
     "output_type": "execute_result"
    }
   ],
   "source": [
    "array = np.array(['u1', 'u2', 'u3', 'u4', 'u5', 'u6', 'u7', 'u8', 'u9'])\n",
    "array"
   ]
  },
  {
   "cell_type": "markdown",
   "metadata": {},
   "source": [
    "Periodic boundary condition"
   ]
  },
  {
   "cell_type": "code",
   "execution_count": 27,
   "metadata": {},
   "outputs": [
    {
     "data": {
      "text/plain": [
       "array(['u9', 'u1', 'u2', 'u3', 'u4', 'u5', 'u6', 'u7', 'u8'], dtype='<U2')"
      ]
     },
     "execution_count": 27,
     "metadata": {},
     "output_type": "execute_result"
    }
   ],
   "source": [
    "array_minus_one = np.roll(array, 1)\n",
    "array_minus_one "
   ]
  },
  {
   "cell_type": "markdown",
   "metadata": {},
   "source": [
    "Outflow boundary condition"
   ]
  },
  {
   "cell_type": "code",
   "execution_count": 28,
   "metadata": {},
   "outputs": [
    {
     "data": {
      "text/plain": [
       "array(['u1', 'u1', 'u2', 'u3', 'u4', 'u5', 'u6', 'u7', 'u8'], dtype='<U2')"
      ]
     },
     "execution_count": 28,
     "metadata": {},
     "output_type": "execute_result"
    }
   ],
   "source": [
    "array_minus_one[0] = array[0]\n",
    "array_minus_one"
   ]
  },
  {
   "cell_type": "markdown",
   "metadata": {},
   "source": [
    "### $u^n_{j+1}$"
   ]
  },
  {
   "cell_type": "markdown",
   "metadata": {},
   "source": [
    "Periodic boundary condition"
   ]
  },
  {
   "cell_type": "code",
   "execution_count": 29,
   "metadata": {},
   "outputs": [
    {
     "data": {
      "text/plain": [
       "array(['u2', 'u3', 'u4', 'u5', 'u6', 'u7', 'u8', 'u9', 'u1'], dtype='<U2')"
      ]
     },
     "execution_count": 29,
     "metadata": {},
     "output_type": "execute_result"
    }
   ],
   "source": [
    "array_minus_one = np.roll(array, -1)\n",
    "array_minus_one "
   ]
  },
  {
   "cell_type": "markdown",
   "metadata": {},
   "source": [
    "Outflow boundary condition"
   ]
  },
  {
   "cell_type": "code",
   "execution_count": 30,
   "metadata": {},
   "outputs": [
    {
     "data": {
      "text/plain": [
       "array(['u2', 'u3', 'u4', 'u5', 'u6', 'u7', 'u8', 'u9', 'u9'], dtype='<U2')"
      ]
     },
     "execution_count": 30,
     "metadata": {},
     "output_type": "execute_result"
    }
   ],
   "source": [
    "array_minus_one[-1] = array[-1]\n",
    "array_minus_one"
   ]
  },
  {
   "cell_type": "markdown",
   "metadata": {},
   "source": [
    "## Implementation"
   ]
  },
  {
   "cell_type": "code",
   "execution_count": 31,
   "metadata": {},
   "outputs": [
    {
     "name": "stdout",
     "output_type": "stream",
     "text": [
      "First step with Lax-Friedrichs\n",
      "100 %\r"
     ]
    }
   ],
   "source": [
    "# Initilize time and iteration counter\n",
    "t = 0.0\n",
    "i = 0\n",
    "\n",
    "# Save the initial conditions\n",
    "plt.plot(x, u_current)\n",
    "plt.title(f'Time={round(t,2):.2f}')\n",
    "plt.ylim(0, 1.1)\n",
    "plt.savefig('./images/fig_'+str(i).zfill(5)+'.png', dpi=200)\n",
    "plt.close()\n",
    "\n",
    "#solve the advection equation\n",
    "while t < t_final:\n",
    "    print(math.ceil(100*t/t_final), \"%\", end='\\r')\n",
    "    \n",
    "    # Compute the new solution using various methods\n",
    "    # Note: np.roll(u_current, -1) is equivalent to u(j+1) and np.roll(u_current,  1) is equivalent to u(j-1)\n",
    "    # Using np.roll is equivalent to use periodic boundary conditions\n",
    "\n",
    "    # Outflow boundary condition:\n",
    "    u_current_minus_one = np.roll(u_current, 1)\n",
    "    u_current_minus_one[0] = u_current[0]\n",
    "    u_current_plus_one = np.roll(u_current, -1)\n",
    "    u_current_plus_one[-1] = u_current[-1]\n",
    "    \n",
    "    # 1) Lax-Friedrichs\n",
    "    #u_next = 0.5*(u_current_plus_one + u_current_minus_one) - a*dt/(2*dx)*(u_current_plus_one - u_current_minus_one)\n",
    "    \n",
    "    # 2) Leapfrog (first step with Lax-Friedrichs)\n",
    "    if t==0: \n",
    "        u_next = 0.5*(u_current_plus_one + u_current_minus_one) - a*dt/(2*dx)*(u_current_plus_one - u_current_minus_one)\n",
    "        print('First step with Lax-Friedrichs')\n",
    "    else :\n",
    "        u_next = u_previous - (a*dt/dx)*(u_current_plus_one - u_current_minus_one)\n",
    "        u_previous = u_current.copy() \n",
    "    \n",
    "    # 3) Lax-Wendroff\n",
    "    #u_next = u_current - a*dt/(2*dx)*(u_current_plus_one - u_current_minus_one) + (a**2)*(dt**2)/(2*dx**2)*(u_current_minus_one - 2*u_current + u_current_plus_one)\n",
    "    \n",
    "    # Update the solution\n",
    "    u_current = u_next.copy()\n",
    "    \n",
    "    # Advance the time \n",
    "    t += dt\n",
    "    i += 1\n",
    "    \n",
    "    # Compute the l2 norm and add the time to the time vector\n",
    "    l2norm.append(np.sqrt(np.sum(u_current**2)/len(u_current)))\n",
    "    time.append(t)\n",
    "    \n",
    "    # Plot the current result and save in an image every t_final/dt/100 iterations\n",
    "    if (i%(t_final/dt/100)==0):\n",
    "        plt.plot(x, u_current)\n",
    "        plt.title(f'Time={round(t,2):.2f}')\n",
    "        plt.ylim(-1.1, 1.1)\n",
    "        plt.savefig('./images/fig_'+str(i).zfill(6)+'.png', dpi=200)\n",
    "        plt.close()"
   ]
  },
  {
   "cell_type": "code",
   "execution_count": 32,
   "metadata": {},
   "outputs": [],
   "source": [
    "#np.save('./results/Outflow_LaxFriedrichs_u'+str(nx-1)+'.npy', u_current)\n",
    "#np.save('./results/Outflow_LaxFriedrichs_l2norm'+str(nx-1)+'.npy', l2norm)\n",
    "#np.save('./results/Outflow_Leapfrog_u'+str(nx-1)+'.npy', u_current)\n",
    "#np.save('./results/Outflow_Leapfrog_l2norm'+str(nx-1)+'.npy', l2norm)\n",
    "#np.save('./results/Outflow_LaxWendroff_u'+str(nx-1)+'.npy', u_current)\n",
    "#np.save('./results/Outflow_LaxWendroff_l2norm'+str(nx-1)+'.npy', l2norm)"
   ]
  },
  {
   "cell_type": "code",
   "execution_count": 33,
   "metadata": {},
   "outputs": [
    {
     "data": {
      "image/png": "[encoded data removed]",
      "text/plain": [
       "<Figure size 640x480 with 1 Axes>"
      ]
     },
     "metadata": {},
     "output_type": "display_data"
    }
   ],
   "source": [
    "# Plot the final solution\n",
    "plt.plot(x, u_initial, label='Initial')\n",
    "plt.plot(x, u_current, label='Final')\n",
    "plt.title(f'Time={round(t,2):.2f}')\n",
    "plt.ylim(-1.1, 1.1)\n",
    "plt.legend()\n",
    "plt.show()"
   ]
  },
  {
   "cell_type": "code",
   "execution_count": 34,
   "metadata": {},
   "outputs": [
    {
     "name": "stdout",
     "output_type": "stream",
     "text": [
      "['fig_00000.png', 'fig_000400.png', 'fig_000800.png', 'fig_001200.png', 'fig_001600.png', 'fig_002000.png', 'fig_002400.png', 'fig_002800.png', 'fig_003200.png', 'fig_003600.png', 'fig_004000.png', 'fig_004400.png', 'fig_004800.png', 'fig_005200.png', 'fig_005600.png', 'fig_006000.png', 'fig_006400.png', 'fig_006800.png', 'fig_007200.png', 'fig_007600.png', 'fig_008000.png', 'fig_008400.png', 'fig_008800.png', 'fig_009200.png', 'fig_009600.png', 'fig_010000.png', 'fig_010400.png', 'fig_010800.png', 'fig_011200.png', 'fig_011600.png', 'fig_012000.png', 'fig_012400.png', 'fig_012800.png', 'fig_013200.png', 'fig_013600.png', 'fig_014000.png', 'fig_014400.png', 'fig_014800.png', 'fig_015200.png', 'fig_015600.png', 'fig_016000.png', 'fig_016400.png', 'fig_016800.png', 'fig_017200.png', 'fig_017600.png', 'fig_018000.png', 'fig_018400.png', 'fig_018800.png', 'fig_019200.png', 'fig_019600.png', 'fig_020000.png', 'fig_020400.png', 'fig_020800.png', 'fig_021200.png', 'fig_021600.png', 'fig_022000.png', 'fig_022400.png', 'fig_022800.png', 'fig_023200.png', 'fig_023600.png', 'fig_024000.png', 'fig_024400.png', 'fig_024800.png', 'fig_025200.png', 'fig_025600.png', 'fig_026000.png', 'fig_026400.png', 'fig_026800.png', 'fig_027200.png', 'fig_027600.png', 'fig_028000.png', 'fig_028400.png', 'fig_028800.png', 'fig_029200.png', 'fig_029600.png', 'fig_030000.png', 'fig_030400.png', 'fig_030800.png', 'fig_031200.png', 'fig_031600.png', 'fig_032000.png', 'fig_032400.png', 'fig_032800.png', 'fig_033200.png', 'fig_033600.png', 'fig_034000.png', 'fig_034400.png', 'fig_034800.png', 'fig_035200.png', 'fig_035600.png', 'fig_036000.png', 'fig_036400.png', 'fig_036800.png', 'fig_037200.png', 'fig_037600.png', 'fig_038000.png', 'fig_038400.png', 'fig_038800.png', 'fig_039200.png', 'fig_039600.png', 'fig_040000.png']\n"
     ]
    },
    {
     "name": "stderr",
     "output_type": "stream",
     "text": [
      "C:\\Users\\Marco\\AppData\\Local\\Temp\\ipykernel_13868\\1298765993.py:15: DeprecationWarning: Starting with ImageIO v3 the behavior of this function will switch to that of iio.v3.imread. To keep the current behavior (and make this warning disappear) use `import imageio.v2 as imageio` or call `imageio.v2.imread` directly.\n",
      "  image = imageio.imread('./images/'+file)\n"
     ]
    }
   ],
   "source": [
    "# Set the directory where your images are stored\n",
    "directory = \"./images/\"\n",
    "\n",
    "# Get the list of image files in the directory\n",
    "files = os.listdir(directory)\n",
    "\n",
    "# Sort the files in alphanumeric order\n",
    "files = sorted(files)\n",
    "\n",
    "print(files)\n",
    "\n",
    "import imageio\n",
    "with imageio.get_writer('./images/movie.mp4', mode='I', quality=10) as writer:\n",
    "    for file in files:\n",
    "        image = imageio.imread('./images/'+file)\n",
    "        writer.append_data(image)"
   ]
  },
  {
   "cell_type": "code",
   "execution_count": 35,
   "metadata": {},
   "outputs": [],
   "source": [
    "# Don't worry about the code in this cell, it is just to let you display the movies you generated above in Jupyter notebook\n",
    "#from IPython.display import HTML\n",
    "#\n",
    "#HTML(\"\"\"\n",
    "#<div align=\"middle\">\n",
    "#<video width=\"80%\" controls>\n",
    "#      <source src=\"./images/movie.mp4\" type=\"video/mp4\">\n",
    "#</video></div>\"\"\")"
   ]
  },
  {
   "cell_type": "code",
   "execution_count": 36,
   "metadata": {},
   "outputs": [
    {
     "data": {
      "image/png": "[encoded data removed]",
      "text/plain": [
       "<Figure size 640x480 with 1 Axes>"
      ]
     },
     "metadata": {},
     "output_type": "display_data"
    }
   ],
   "source": [
    "# Compare with data stored\n",
    "#l2_saved=np.genfromtxt('./l2norm_FTCS.dat', comments='#')\n",
    "#l2_saved=np.genfromtxt('./l2norm_LAX.dat', comments='#')\n",
    "#l2_saved=np.genfromtxt('./l2norm_LEAPFROG.dat', comments='#')\n",
    "#l2_saved=np.genfromtxt('./l2norm_LAXWENDROFF.dat', comments='#')\n",
    "plt.plot(time, l2norm)\n",
    "plt.axhline(l2norm[0], ls='--', color='red', zorder=0)\n",
    "#plt.plot(l2_saved[:,0], l2_saved[:,1], '+')\n",
    "#plt.savefig('./images/l2norm.png', dpi=200)\n",
    "plt.show()"
   ]
  }
 ],
 "metadata": {
  "kernelspec": {
   "display_name": "Python 3",
   "language": "python",
   "name": "python3"
  },
  "language_info": {
   "codemirror_mode": {
    "name": "ipython",
    "version": 3
   },
   "file_extension": ".py",
   "mimetype": "text/x-python",
   "name": "python",
   "nbconvert_exporter": "python",
   "pygments_lexer": "ipython3",
   "version": "3.8.18"
  }
 },
 "nbformat": 4,
 "nbformat_minor": 4
}

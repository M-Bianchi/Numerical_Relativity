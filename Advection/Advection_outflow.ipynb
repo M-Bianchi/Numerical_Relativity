{
 "cells": [
  {
   "cell_type": "markdown",
   "metadata": {},
   "source": [
    "# Advection Equation\n",
    "\n",
    "Here we solve the advection equation $u_t + a u_x=0$ using as an initial condition a gaussian profile $u(x,t=0)=\\exp{[-(x-x_0)^2]}$ with $x_0=5$.\n",
    "\n",
    "We use a domain $x\\in [0,10]$ with outflow boundary conditions."
   ]
  },
  {
   "cell_type": "code",
   "execution_count": 66,
   "metadata": {},
   "outputs": [
    {
     "name": "stdout",
     "output_type": "stream",
     "text": [
      "nx= 100001\n",
      "dx= 0.0001\n",
      "dt= 5e-05\n",
      "Number of iterations= 400000.0\n"
     ]
    }
   ],
   "source": [
    "import numpy as np\n",
    "import matplotlib.pyplot as plt\n",
    "import math\n",
    "import os\n",
    "\n",
    "# Define the speed a\n",
    "a = 1.0\n",
    "\n",
    "# Define the domain\n",
    "L = 10.0        # Domain length\n",
    "nx = 100001        # Number of grid points\n",
    "dx = L/(nx-1)   # Grid spacing\n",
    "x = np.linspace(0, L, nx)\n",
    "\n",
    "# Define the time step and the final time\n",
    "cf = 0.5\n",
    "dt = cf*dx/a    # Time step\n",
    "t_final = 20.0\n",
    "\n",
    "print('nx=', nx)\n",
    "print('dx=', dx)\n",
    "print('dt=', dt)\n",
    "print('Number of iterations=', t_final/dt)\n",
    "\n",
    "\n",
    "# Define the initial condition\n",
    "x0 = 5\n",
    "u_initial = np.exp(-(x-x0)**2)\n",
    "\n",
    "# Initialize the solution array\n",
    "u_current = u_initial.copy()\n",
    "u_previous = u_initial.copy()\n",
    "\n",
    "# We create arrays where we will store the time and the l2norm\n",
    "l2norm = []\n",
    "l2norm.append(np.sqrt(np.sum(u_current**2)/len(u_current)))\n",
    "\n",
    "time = []\n",
    "time.append(0.0)"
   ]
  },
  {
   "cell_type": "markdown",
   "metadata": {},
   "source": [
    "## The outflow boundary condition"
   ]
  },
  {
   "cell_type": "markdown",
   "metadata": {},
   "source": [
    "### $u^n_{j-1}$"
   ]
  },
  {
   "cell_type": "code",
   "execution_count": 67,
   "metadata": {},
   "outputs": [
    {
     "data": {
      "text/plain": [
       "array(['u1', 'u2', 'u3', 'u4', 'u5', 'u6', 'u7', 'u8', 'u9'], dtype='<U2')"
      ]
     },
     "execution_count": 67,
     "metadata": {},
     "output_type": "execute_result"
    }
   ],
   "source": [
    "array = np.array(['u1', 'u2', 'u3', 'u4', 'u5', 'u6', 'u7', 'u8', 'u9'])\n",
    "array"
   ]
  },
  {
   "cell_type": "markdown",
   "metadata": {},
   "source": [
    "Periodic boundary condition"
   ]
  },
  {
   "cell_type": "code",
   "execution_count": 68,
   "metadata": {},
   "outputs": [
    {
     "data": {
      "text/plain": [
       "array(['u9', 'u1', 'u2', 'u3', 'u4', 'u5', 'u6', 'u7', 'u8'], dtype='<U2')"
      ]
     },
     "execution_count": 68,
     "metadata": {},
     "output_type": "execute_result"
    }
   ],
   "source": [
    "array_minus_one = np.roll(array, 1)\n",
    "array_minus_one "
   ]
  },
  {
   "cell_type": "markdown",
   "metadata": {},
   "source": [
    "Outflow boundary condition"
   ]
  },
  {
   "cell_type": "code",
   "execution_count": 69,
   "metadata": {},
   "outputs": [
    {
     "data": {
      "text/plain": [
       "array(['u1', 'u1', 'u2', 'u3', 'u4', 'u5', 'u6', 'u7', 'u8'], dtype='<U2')"
      ]
     },
     "execution_count": 69,
     "metadata": {},
     "output_type": "execute_result"
    }
   ],
   "source": [
    "array_minus_one[0] = array_minus_one[1]\n",
    "array_minus_one"
   ]
  },
  {
   "cell_type": "markdown",
   "metadata": {},
   "source": [
    "### $u^n_{j+1}$"
   ]
  },
  {
   "cell_type": "markdown",
   "metadata": {},
   "source": [
    "Periodic boundary condition"
   ]
  },
  {
   "cell_type": "code",
   "execution_count": 70,
   "metadata": {},
   "outputs": [
    {
     "data": {
      "text/plain": [
       "array(['u2', 'u3', 'u4', 'u5', 'u6', 'u7', 'u8', 'u9', 'u1'], dtype='<U2')"
      ]
     },
     "execution_count": 70,
     "metadata": {},
     "output_type": "execute_result"
    }
   ],
   "source": [
    "array_minus_one = np.roll(array, -1)\n",
    "array_minus_one "
   ]
  },
  {
   "cell_type": "markdown",
   "metadata": {},
   "source": [
    "Outflow boundary condition"
   ]
  },
  {
   "cell_type": "code",
   "execution_count": 71,
   "metadata": {},
   "outputs": [
    {
     "data": {
      "text/plain": [
       "array(['u2', 'u3', 'u4', 'u5', 'u6', 'u7', 'u8', 'u9', 'u9'], dtype='<U2')"
      ]
     },
     "execution_count": 71,
     "metadata": {},
     "output_type": "execute_result"
    }
   ],
   "source": [
    "array_minus_one[-1] = array_minus_one[-2]\n",
    "array_minus_one"
   ]
  },
  {
   "cell_type": "markdown",
   "metadata": {},
   "source": [
    "## Implementation"
   ]
  },
  {
   "cell_type": "code",
   "execution_count": 72,
   "metadata": {},
   "outputs": [
    {
     "name": "stdout",
     "output_type": "stream",
     "text": [
      "100 %\r"
     ]
    }
   ],
   "source": [
    "# Initilize time and iteration counter\n",
    "t = 0.0\n",
    "i = 0\n",
    "\n",
    "# Save the initial conditions\n",
    "plt.plot(x, u_current)\n",
    "plt.title(f'Time={round(t,2):.2f}')\n",
    "plt.ylim(0, 1.1)\n",
    "plt.savefig('./images/fig_'+str(i).zfill(5)+'.png', dpi=200)\n",
    "plt.close()\n",
    "\n",
    "#solve the advection equation\n",
    "while t < t_final:\n",
    "    print(math.ceil(100*t/t_final), \"%\", end='\\r')\n",
    "    \n",
    "    # Compute the new solution using various methods\n",
    "    # Note: np.roll(u_current, -1) is equivalent to u(j+1) and np.roll(u_current,  1) is equivalent to u(j-1)\n",
    "    # Using np.roll is equivalent to use periodic boundary conditions\n",
    "    \n",
    "    u_current_minus_one = np.roll(u_current, 1)\n",
    "    u_current_minus_one[0] = u_current_minus_one[1]\n",
    "    u_current_plus_one = np.roll(u_current, -1)\n",
    "    u_current_plus_one[-1] = u_current_minus_one[-2]\n",
    "    \n",
    "    # 1) Leapfrog (first step with Lax-Friedrichs)\n",
    "    #if t==0: \n",
    "    #    u_next = 0.5*(u_current_plus_one + u_current_minus_one) - a*dt/(2*dx)*(u_current_plus_one - u_current_minus_one)\n",
    "    #    print('First step with Lax-Friedrichs')\n",
    "    #else :\n",
    "    #    u_next = u_previous - (a*dt/dx)*(u_current_plus_one - u_current_minus_one)\n",
    "    #    u_previous = u_current.copy() \n",
    "    \n",
    "    # 2) Lax-Wendroff\n",
    "    u_next = u_current - a*dt/(2*dx)*(u_current_plus_one - u_current_minus_one) + (a**2)*(dt**2)/(2*dx**2)*(u_current_minus_one - 2*u_current + u_current_plus_one)\n",
    "    \n",
    "    \n",
    "    # Update the solution\n",
    "    u_current = u_next.copy()\n",
    "    \n",
    "    # Advance the time \n",
    "    t += dt\n",
    "    i += 1\n",
    "    \n",
    "    # Compute the l2 norm and add the time to the time vector\n",
    "    l2norm.append(np.sqrt(np.sum(u_current**2)/len(u_current)))\n",
    "    time.append(t)\n",
    "    \n",
    "    # Plot the current result and save in an image every t_final/dt/100 iterations\n",
    "    if (i%(t_final/dt/100)==0):\n",
    "        plt.plot(x, u_current)\n",
    "        plt.title(f'Time={round(t,2):.2f}')\n",
    "        plt.ylim(0,1.1)\n",
    "        plt.savefig('./images/fig_'+str(i).zfill(6)+'.png', dpi=200)\n",
    "        plt.close()"
   ]
  },
  {
   "cell_type": "code",
   "execution_count": 73,
   "metadata": {},
   "outputs": [],
   "source": [
    "#np.save('./results/Outflow_Leapfrog_u'+str(nx-1)+'.npy', u_current)\n",
    "#np.save('./results/Outflow_Leapfrog_l2norm'+str(nx-1)+'.npy', l2norm)\n",
    "np.save('./results/Outflow_LaxWendroff_u'+str(nx-1)+'.npy', u_current)\n",
    "np.save('./results/Outflow_LaxWendroff_l2norm'+str(nx-1)+'.npy', l2norm)"
   ]
  },
  {
   "cell_type": "code",
   "execution_count": 74,
   "metadata": {},
   "outputs": [
    {
     "data": {
      "image/png": "[encoded data removed]",
      "text/plain": [
       "<Figure size 640x480 with 1 Axes>"
      ]
     },
     "metadata": {},
     "output_type": "display_data"
    }
   ],
   "source": [
    "# Plot the final solution\n",
    "plt.plot(x, u_initial, label='Initial')\n",
    "plt.plot(x, u_current, label='Final')\n",
    "plt.title(f'Time={round(t,2):.2f}')\n",
    "plt.ylim(0, 1.1)\n",
    "plt.legend()\n",
    "plt.show()"
   ]
  },
  {
   "cell_type": "code",
   "execution_count": 75,
   "metadata": {},
   "outputs": [
    {
     "name": "stdout",
     "output_type": "stream",
     "text": [
      "['fig_00000.png', 'fig_004000.png', 'fig_008000.png', 'fig_012000.png', 'fig_016000.png', 'fig_020000.png', 'fig_024000.png', 'fig_028000.png', 'fig_032000.png', 'fig_036000.png', 'fig_040000.png', 'fig_044000.png', 'fig_048000.png', 'fig_052000.png', 'fig_056000.png', 'fig_060000.png', 'fig_064000.png', 'fig_068000.png', 'fig_072000.png', 'fig_076000.png', 'fig_080000.png', 'fig_084000.png', 'fig_088000.png', 'fig_092000.png', 'fig_096000.png', 'fig_100000.png', 'fig_104000.png', 'fig_108000.png', 'fig_112000.png', 'fig_116000.png', 'fig_120000.png', 'fig_124000.png', 'fig_128000.png', 'fig_132000.png', 'fig_136000.png', 'fig_140000.png', 'fig_144000.png', 'fig_148000.png', 'fig_152000.png', 'fig_156000.png', 'fig_160000.png', 'fig_164000.png', 'fig_168000.png', 'fig_172000.png', 'fig_176000.png', 'fig_180000.png', 'fig_184000.png', 'fig_188000.png', 'fig_192000.png', 'fig_196000.png', 'fig_200000.png', 'fig_204000.png', 'fig_208000.png', 'fig_212000.png', 'fig_216000.png', 'fig_220000.png', 'fig_224000.png', 'fig_228000.png', 'fig_232000.png', 'fig_236000.png', 'fig_240000.png', 'fig_244000.png', 'fig_248000.png', 'fig_252000.png', 'fig_256000.png', 'fig_260000.png', 'fig_264000.png', 'fig_268000.png', 'fig_272000.png', 'fig_276000.png', 'fig_280000.png', 'fig_284000.png', 'fig_288000.png', 'fig_292000.png', 'fig_296000.png', 'fig_300000.png', 'fig_304000.png', 'fig_308000.png', 'fig_312000.png', 'fig_316000.png', 'fig_320000.png', 'fig_324000.png', 'fig_328000.png', 'fig_332000.png', 'fig_336000.png', 'fig_340000.png', 'fig_344000.png', 'fig_348000.png', 'fig_352000.png', 'fig_356000.png', 'fig_360000.png', 'fig_364000.png', 'fig_368000.png', 'fig_372000.png', 'fig_376000.png', 'fig_380000.png', 'fig_384000.png', 'fig_388000.png', 'fig_392000.png', 'fig_396000.png', 'fig_400000.png']\n"
     ]
    },
    {
     "name": "stderr",
     "output_type": "stream",
     "text": [
      "C:\\Users\\Marco\\AppData\\Local\\Temp\\ipykernel_4304\\1298765993.py:15: DeprecationWarning: Starting with ImageIO v3 the behavior of this function will switch to that of iio.v3.imread. To keep the current behavior (and make this warning disappear) use `import imageio.v2 as imageio` or call `imageio.v2.imread` directly.\n",
      "  image = imageio.imread('./images/'+file)\n"
     ]
    }
   ],
   "source": [
    "# Set the directory where your images are stored\n",
    "directory = \"./images/\"\n",
    "\n",
    "# Get the list of image files in the directory\n",
    "files = os.listdir(directory)\n",
    "\n",
    "# Sort the files in alphanumeric order\n",
    "files = sorted(files)\n",
    "\n",
    "print(files)\n",
    "\n",
    "import imageio\n",
    "with imageio.get_writer('./images/movie.mp4', mode='I', quality=10) as writer:\n",
    "    for file in files:\n",
    "        image = imageio.imread('./images/'+file)\n",
    "        writer.append_data(image)"
   ]
  },
  {
   "cell_type": "code",
   "execution_count": 76,
   "metadata": {},
   "outputs": [],
   "source": [
    "# Don't worry about the code in this cell, it is just to let you display the movies you generated above in Jupyter notebook\n",
    "#from IPython.display import HTML\n",
    "#\n",
    "#HTML(\"\"\"\n",
    "#<div align=\"middle\">\n",
    "#<video width=\"80%\" controls>\n",
    "#      <source src=\"./images/movie.mp4\" type=\"video/mp4\">\n",
    "#</video></div>\"\"\")"
   ]
  },
  {
   "cell_type": "code",
   "execution_count": 77,
   "metadata": {},
   "outputs": [
    {
     "data": {
      "image/png": "[encoded data removed]",
      "text/plain": [
       "<Figure size 640x480 with 1 Axes>"
      ]
     },
     "metadata": {},
     "output_type": "display_data"
    }
   ],
   "source": [
    "# Compare with data stored\n",
    "#l2_saved=np.genfromtxt('./l2norm_FTCS.dat', comments='#')\n",
    "#l2_saved=np.genfromtxt('./l2norm_LAX.dat', comments='#')\n",
    "#l2_saved=np.genfromtxt('./l2norm_LEAPFROG.dat', comments='#')\n",
    "#l2_saved=np.genfromtxt('./l2norm_LAXWENDROFF.dat', comments='#')\n",
    "plt.plot(time, l2norm)\n",
    "plt.axhline(l2norm[0], ls='--', color='red', zorder=0)\n",
    "#plt.plot(l2_saved[:,0], l2_saved[:,1], '+')\n",
    "#plt.savefig('./images/l2norm.png', dpi=200)\n",
    "plt.show()"
   ]
  }
 ],
 "metadata": {
  "kernelspec": {
   "display_name": "Python 3",
   "language": "python",
   "name": "python3"
  },
  "language_info": {
   "codemirror_mode": {
    "name": "ipython",
    "version": 3
   },
   "file_extension": ".py",
   "mimetype": "text/x-python",
   "name": "python",
   "nbconvert_exporter": "python",
   "pygments_lexer": "ipython3",
   "version": "3.8.18"
  }
 },
 "nbformat": 4,
 "nbformat_minor": 4
}
